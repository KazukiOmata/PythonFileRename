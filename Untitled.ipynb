{
 "cells": [
  {
   "cell_type": "code",
   "execution_count": 3,
   "metadata": {},
   "outputs": [],
   "source": [
    "import os\n",
    "from tqdm import tqdm #プログレスバー\n",
    "import pathlib #相対パス表現\n",
    "import re #正規表現\n"
   ]
  },
  {
   "cell_type": "code",
   "execution_count": null,
   "metadata": {},
   "outputs": [
    {
     "name": "stderr",
     "output_type": "stream",
     "text": [
      " 50%|██████████████████████████████████████████████▌                                              | 66/132 [11:17<07:55,  7.20s/it]"
     ]
    }
   ],
   "source": [
    "# Path変換サイト\n",
    "# https://www.kenjisugimoto.com/pathcon/\n",
    "\n",
    "mainFolder = \"F:/graduation_works/transcoded_footage_jpg/20201024_footage/A002_segMatte\"\n",
    "\n",
    "\n",
    "folders = os.listdir(mainFolder)\n",
    "# デバック\n",
    "# print(folders)\n",
    "\n",
    "# if not os.path.exists(mainFolder):\n",
    "#     os.makedirs()\n",
    "\n",
    "\n",
    "for folder in tqdm(folders):\n",
    "    \n",
    "    \n",
    "    images = os.listdir(mainFolder + '/' + folder)\n",
    "#     デバック\n",
    "#     print(image)\n",
    "    for image in images:\n",
    "        \n",
    "\n",
    "        name = image.replace('_SegMatte', '')\n",
    "\n",
    "\n",
    "        currentPath = mainFolder + '/' + folder + '/' + image\n",
    "        newPath = mainFolder + '/' + folder + '/' + name\n",
    "        os.rename(currentPath, newPath)\n",
    "    \n",
    "\n",
    "\n"
   ]
  },
  {
   "cell_type": "code",
   "execution_count": null,
   "metadata": {},
   "outputs": [],
   "source": []
  }
 ],
 "metadata": {
  "kernelspec": {
   "display_name": "Python 3",
   "language": "python",
   "name": "python3"
  },
  "language_info": {
   "codemirror_mode": {
    "name": "ipython",
    "version": 3
   },
   "file_extension": ".py",
   "mimetype": "text/x-python",
   "name": "python",
   "nbconvert_exporter": "python",
   "pygments_lexer": "ipython3",
   "version": "3.7.2"
  }
 },
 "nbformat": 4,
 "nbformat_minor": 4
}
